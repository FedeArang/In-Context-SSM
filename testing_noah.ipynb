{
 "cells": [
  {
   "cell_type": "code",
   "execution_count": 1,
   "metadata": {},
   "outputs": [],
   "source": [
    "from torch import nn\n",
    "import matplotlib.pyplot as plt"
   ]
  },
  {
   "cell_type": "code",
   "execution_count": 2,
   "metadata": {},
   "outputs": [],
   "source": [
    "import torch\n",
    "import torch.nn as nn\n",
    "import torch.nn.functional as F\n",
    "import numpy as np\n",
    "from scipy import signal\n",
    "from scipy import linalg as la\n",
    "from scipy import special as ss\n",
    "\n",
    "import os\n",
    "os.environ[\"KMP_DUPLICATE_LIB_OK\"]=\"TRUE\"\n",
    "import sys\n",
    "sys.path.append('C:/Users/faran/Documents_nuova/Documenti/Federico/ETH/in context learning/Git_Hub/In-Context-SSM/model/')\n",
    "from model.op import transition\n",
    "\n",
    "\n",
    "\"\"\"\n",
    "The HiPPO_LegT and HiPPO_LegS modules satisfy the HiPPO interface:\n",
    "\n",
    "The forward() method takes an input sequence f of length L to an output sequence c of shape (L, N) where N is the order of the HiPPO operator.\n",
    "c[k] can be thought of as representing all of f[:k] via coefficients of a polynomial approximation.\n",
    "\n",
    "The reconstruct() method takes the coefficients and turns each coefficient into a reconstruction of the original input.\n",
    "Note that each coefficient c[k] turns into an approximation of the entire input f, so this reconstruction has shape (L, L),\n",
    "and the last element of this reconstruction (which has shape (L,)) is the most accurate reconstruction of the original input.\n",
    "\n",
    "Both of these two methods construct approximations according to different measures, defined in the HiPPO paper.\n",
    "The first one is the \"Translated Legendre\" (which is up to scaling equal to the LMU matrix),\n",
    "and the second one is the \"Scaled Legendre\".\n",
    "Each method comprises an exact recurrence c_k = A_k c_{k-1} + B_k f_k, and an exact reconstruction formula based on the corresponding polynomial family.\n",
    "\"\"\"\n",
    "\n",
    "class HiPPO_LegT(nn.Module):\n",
    "    def __init__(self, N, dt=1.0, discretization='bilinear', trainable=False):\n",
    "        \"\"\"\n",
    "        N: the order of the HiPPO projection\n",
    "        dt: discretization step size - should be roughly inverse to the length of the sequence\n",
    "        \"\"\"\n",
    "        super().__init__()\n",
    "        self.N = N\n",
    "        self.dt = dt\n",
    "        A, B = transition('legt', N)\n",
    "\n",
    "        if trainable:\n",
    "            C = np.ones((N,))\n",
    "            D = np.zeros((1,))\n",
    "            self.C_discr = torch.nn.Parameter(torch.Tensor(C).requires_grad_())\n",
    "            self.D_discr = torch.nn.Parameter(torch.Tensor(D).requires_grad_())\n",
    "\n",
    "        else:\n",
    "            Q = np.arange(N, dtype=np.float64)\n",
    "            evals = (2*Q + 1)** .5  #The Lengendre Polinomyals satisfy P_n(1) = 1 for all n\n",
    "            evals = np.reshape(evals, (self.N, ))\n",
    "\n",
    "            C = np.dot(evals, A)\n",
    "            D = np.sum(evals*B.squeeze(-1)).reshape(1,)\n",
    "\n",
    "            self.C = torch.Tensor(np.reshape(C, (N, )))\n",
    "            self.D = torch.Tensor(np.reshape(D, (1,)))\n",
    "\n",
    "            self.C_discr = 1/(1-0.5*self.D*self.dt)*0.5*dt*self.C\n",
    "            self.D_discr = 1/(1-0.5*self.D*self.dt)*(1+0.5*dt*self.D)\n",
    "\n",
    "\n",
    "        # dt, discretization options\n",
    "        A, B, _, _, _ = signal.cont2discrete((A, B, C, D), dt=dt, method=discretization)\n",
    "\n",
    "        B = B.squeeze(-1)\n",
    "    \n",
    "        self.register_buffer('A', torch.Tensor(A)) # (N, N)\n",
    "        self.register_buffer('B', torch.Tensor(B)) # (N,)\n",
    "\n",
    "        # vals = np.linspace(0.0, 1.0, 1./dt)\n",
    "        vals = np.arange(0.0, 1.0, dt)\n",
    "        self.eval_matrix = torch.Tensor(ss.eval_legendre(np.arange(N)[:, None], 1 - 2 * vals).T)\n",
    "\n",
    "    def forward(self, inputs):\n",
    "        \"\"\"\n",
    "        inputs : (batch size, length)\n",
    "        output : (batch size, length) where N is the order of the HiPPO projection\n",
    "        \"\"\"\n",
    "        if len(inputs.shape) == 1:\n",
    "            #then batch size is one and we unsqueeze\n",
    "            inputs = inputs.unsqueeze(0)\n",
    "            \n",
    "        inputs = inputs.unsqueeze(-1)\n",
    "        u = inputs * self.B # (length, ..., N)\n",
    "\n",
    "        c = torch.zeros((u.shape[0], u.shape[-1]))\n",
    "\n",
    "        cs = []\n",
    "        next_step_pred = []\n",
    "    \n",
    "        for i in range(inputs.shape[1]):\n",
    "            c = F.linear(c, self.A) + self.B * inputs[:,i,:]\n",
    "            if len(cs)==0:\n",
    "                pred = (c @ self.C_discr).reshape(-1,1) + self.D_discr * inputs[:,i,:]\n",
    "            else:\n",
    "                pred = (2*c @ self.C_discr).reshape(-1,1) + self.D_discr * inputs[:,i,:]\n",
    "            cs.append(c)\n",
    "            next_step_pred.append(pred)\n",
    "        \n",
    "        \n",
    "        return torch.stack(next_step_pred, dim=1).squeeze(-1)\n",
    "        #return torch.stack(cs, dim=0)\n",
    "\n",
    "    def reconstruct(self, c):\n",
    "        return (self.eval_matrix @ c.unsqueeze(-1)).squeeze(-1)\n"
   ]
  },
  {
   "cell_type": "code",
   "execution_count": 10,
   "metadata": {},
   "outputs": [
    {
     "name": "stdout",
     "output_type": "stream",
     "text": [
      "trainable\n",
      "____\n",
      "optparams\n"
     ]
    }
   ],
   "source": [
    "print(\"trainable\")\n",
    "model_trainable = HiPPO_LegT(N = 10, trainable=True)\n",
    "print(\"____\")\n",
    "print(\"optparams\")\n",
    "model_opt = HiPPO_LegT(N = 10, trainable=False)"
   ]
  },
  {
   "cell_type": "code",
   "execution_count": null,
   "metadata": {},
   "outputs": [],
   "source": []
  },
  {
   "cell_type": "code",
   "execution_count": 12,
   "metadata": {},
   "outputs": [
    {
     "name": "stdout",
     "output_type": "stream",
     "text": [
      "x torch.Size([2, 200])\n",
      "y torch.Size([2, 200])\n"
     ]
    },
    {
     "data": {
      "text/plain": [
       "(torch.Size([2, 200]),\n",
       " torch.Size([2, 200]),\n",
       " torch.Size([2, 200]),\n",
       " torch.Size([2, 200]))"
      ]
     },
     "execution_count": 12,
     "metadata": {},
     "output_type": "execute_result"
    }
   ],
   "source": [
    "x = torch.linspace(0,10,200)\n",
    "x = torch.stack((x, x))\n",
    "print(\"x\", x.shape)\n",
    "y = torch.sin(x)\n",
    "print(\"y\", x.shape)\n",
    "y_pred = model_trainable(y)\n",
    "y_pred_opt = model_opt(y)\n",
    "x.shape, y.shape, y_pred.shape, y_pred_opt.shape"
   ]
  },
  {
   "cell_type": "code",
   "execution_count": 13,
   "metadata": {},
   "outputs": [
    {
     "name": "stdout",
     "output_type": "stream",
     "text": [
      "torch.Size([2, 200])\n"
     ]
    }
   ],
   "source": [
    "print(y_pred.shape)"
   ]
  },
  {
   "cell_type": "code",
   "execution_count": 16,
   "metadata": {},
   "outputs": [
    {
     "data": {
      "text/plain": [
       "<matplotlib.legend.Legend at 0x7fbdad6472f0>"
      ]
     },
     "execution_count": 16,
     "metadata": {},
     "output_type": "execute_result"
    },
    {
     "data": {
      "image/png": "[encoded data removed]",
      "text/plain": [
       "<Figure size 640x480 with 1 Axes>"
      ]
     },
     "metadata": {},
     "output_type": "display_data"
    }
   ],
   "source": [
    "plt.plot(x[0,:], y_pred[0,:].detach().numpy(), label=\"random init\")\n",
    "plt.plot(x[0,:], y_pred_opt[0,:].detach().numpy(), c=\"red\", label=\"optimal Parametrization\")\n",
    "plt.plot(x[0,:], y[0,:].detach().numpy(), c=\"black\", label=\"Ground Truth\")\n",
    "plt.legend()"
   ]
  },
  {
   "cell_type": "code",
   "execution_count": null,
   "metadata": {},
   "outputs": [],
   "source": []
  },
  {
   "cell_type": "code",
   "execution_count": 69,
   "metadata": {},
   "outputs": [],
   "source": [
    "import yaml\n",
    "from icl_learning.data import PolyDataset\n",
    "\n",
    "with open('icl_learning/config.yaml') as f:\n",
    "        config = yaml.load(f, Loader=yaml.FullLoader)\n",
    "\n",
    "\n",
    "dataset = PolyDataset(degree=config[\"data\"][\"degree\"], num_points=config[\"data\"][\"num_points\"], num_functions=config[\"data\"][\"num_functions\"])\n",
    "model = HiPPO_LegT(N=config[\"data\"][\"num_points\"], dt=1/config[\"data\"][\"num_points\"], trainable=True)\n",
    "dataloader_train = torch.utils.data.DataLoader(dataset, batch_size=config[\"train\"][\"batch_size\"], shuffle=True)"
   ]
  },
  {
   "cell_type": "code",
   "execution_count": 70,
   "metadata": {},
   "outputs": [
    {
     "name": "stdout",
     "output_type": "stream",
     "text": [
      "y_pred torch.Size([32, 1000])\n",
      "data tensor([[9.7352e-06, 9.0229e-06, 8.3427e-06,  ..., 2.2078e-04, 2.2831e-04,\n",
      "         2.3554e-04],\n",
      "        [7.6502e-05, 7.3420e-05, 7.0434e-05,  ..., 1.0313e-05, 1.1252e-05,\n",
      "         1.1771e-05],\n",
      "        [8.7680e-07, 8.2395e-07, 7.7370e-07,  ..., 4.3872e-03, 4.4763e-03,\n",
      "         4.5668e-03],\n",
      "        ...,\n",
      "        [2.8858e-09, 2.2463e-09, 1.6999e-09,  ..., 2.0678e-02, 2.1008e-02,\n",
      "         2.1342e-02],\n",
      "        [3.8418e-07, 3.5730e-07, 3.3194e-07,  ..., 1.8959e-03, 1.9417e-03,\n",
      "         1.9887e-03],\n",
      "        [1.3433e-05, 1.2779e-05, 1.2150e-05,  ..., 5.4813e-05, 5.8022e-05,\n",
      "         6.1904e-05]])\n",
      "Epoch 0, iteration 0, loss: 5.973716099560988e-08\n",
      "y_pred torch.Size([32, 1000])\n",
      "data tensor([[5.4650e-07, 5.0196e-07, 4.5967e-07,  ..., 1.3714e-02, 1.3938e-02,\n",
      "         1.4166e-02],\n",
      "        [3.5271e-04, 3.4297e-04, 3.3346e-04,  ..., 6.7111e-05, 7.0656e-05,\n",
      "         7.2133e-05],\n",
      "        [6.4208e-06, 4.6510e-06, 2.9652e-06,  ..., 1.9704e-05, 2.2397e-05,\n",
      "         2.3334e-05],\n",
      "        ...,\n",
      "        [5.7404e-05, 5.5643e-05, 5.3929e-05,  ..., 8.9201e-04, 9.1348e-04,\n",
      "         9.3444e-04],\n",
      "        [6.1366e-02, 6.0523e-02, 5.9690e-02,  ..., 9.4511e-06, 5.7854e-06,\n",
      "         6.5304e-06],\n",
      "        [1.0749e-05, 1.0342e-05, 9.9492e-06,  ..., 4.9137e-03, 5.0031e-03,\n",
      "         5.0936e-03]])\n",
      "Epoch 1, iteration 0, loss: 1.2443903187886463e-06\n",
      "y_pred torch.Size([32, 1000])\n",
      "data tensor([[ 1.6377e-04,  1.5916e-04,  1.5466e-04,  ...,  1.6168e-04,\n",
      "          1.6761e-04,  1.7201e-04],\n",
      "        [ 1.9713e-05,  1.8982e-05,  1.8274e-05,  ...,  1.9589e-03,\n",
      "          2.0004e-03,  2.0425e-03],\n",
      "        [ 6.1143e-06,  5.6594e-06,  5.2298e-06,  ...,  1.5905e-07,\n",
      "          9.1835e-07,  8.1178e-07],\n",
      "        ...,\n",
      "        [ 1.8615e-05,  1.7918e-05,  1.7244e-05,  ...,  1.2167e-04,\n",
      "          1.2752e-04,  1.3307e-04],\n",
      "        [ 2.9183e-04,  2.8282e-04,  2.7404e-04,  ..., -4.7963e-08,\n",
      "          3.1519e-07, -6.1857e-07],\n",
      "        [ 4.1810e-05,  4.0430e-05,  3.9089e-05,  ...,  8.3431e-04,\n",
      "          8.5485e-04,  8.7455e-04]])\n",
      "Epoch 2, iteration 0, loss: 8.516399141456077e-09\n",
      "y_pred torch.Size([32, 1000])\n",
      "data tensor([[ 1.1130e-02,  1.0920e-02,  1.0714e-02,  ...,  5.7742e-08,\n",
      "         -9.6764e-07,  1.4249e-07],\n",
      "        [ 4.4622e-05,  4.2441e-05,  4.0336e-05,  ...,  6.0634e-06,\n",
      "          6.5681e-06,  6.6010e-06],\n",
      "        [ 2.7743e-05,  2.6247e-05,  2.4809e-05,  ...,  3.7458e-05,\n",
      "          4.0262e-05,  4.2954e-05],\n",
      "        ...,\n",
      "        [ 7.9178e-05,  7.6743e-05,  7.4372e-05,  ...,  6.1771e-04,\n",
      "          6.3414e-04,  6.5072e-04],\n",
      "        [ 1.1822e-04,  1.1231e-04,  1.0657e-04,  ...,  1.8302e-06,\n",
      "          3.1811e-06,  3.1474e-06],\n",
      "        [ 1.0385e-03,  1.0161e-03,  9.9412e-04,  ...,  6.3594e-05,\n",
      "          6.7455e-05,  6.9145e-05]])\n",
      "Epoch 3, iteration 0, loss: 4.5787764690885524e-08\n"
     ]
    },
    {
     "ename": "KeyboardInterrupt",
     "evalue": "",
     "output_type": "error",
     "traceback": [
      "\u001b[0;31m---------------------------------------------------------------------------\u001b[0m",
      "\u001b[0;31mKeyboardInterrupt\u001b[0m                         Traceback (most recent call last)",
      "Cell \u001b[0;32mIn[70], line 8\u001b[0m\n\u001b[1;32m      5\u001b[0m \u001b[38;5;28;01mfor\u001b[39;00m epoch \u001b[38;5;129;01min\u001b[39;00m \u001b[38;5;28mrange\u001b[39m(\u001b[38;5;241m10000\u001b[39m):\n\u001b[1;32m      6\u001b[0m     \u001b[38;5;28;01mfor\u001b[39;00m i, data \u001b[38;5;129;01min\u001b[39;00m \u001b[38;5;28menumerate\u001b[39m(dataloader_train):\n\u001b[0;32m----> 8\u001b[0m         y_pred \u001b[38;5;241m=\u001b[39m \u001b[43mmodel\u001b[49m\u001b[43m(\u001b[49m\u001b[43mdata\u001b[49m\u001b[43m[\u001b[49m\u001b[38;5;241;43m1\u001b[39;49m\u001b[43m]\u001b[49m\u001b[43m)\u001b[49m\n\u001b[1;32m     10\u001b[0m         \u001b[38;5;66;03m# loss is the mean squared error\u001b[39;00m\n\u001b[1;32m     11\u001b[0m         \u001b[38;5;28mprint\u001b[39m(\u001b[38;5;124m\"\u001b[39m\u001b[38;5;124my_pred\u001b[39m\u001b[38;5;124m\"\u001b[39m, y_pred\u001b[38;5;241m.\u001b[39mshape)\n",
      "File \u001b[0;32m~/miniconda3/envs/vmamba/lib/python3.12/site-packages/torch/nn/modules/module.py:1511\u001b[0m, in \u001b[0;36mModule._wrapped_call_impl\u001b[0;34m(self, *args, **kwargs)\u001b[0m\n\u001b[1;32m   1509\u001b[0m     \u001b[38;5;28;01mreturn\u001b[39;00m \u001b[38;5;28mself\u001b[39m\u001b[38;5;241m.\u001b[39m_compiled_call_impl(\u001b[38;5;241m*\u001b[39margs, \u001b[38;5;241m*\u001b[39m\u001b[38;5;241m*\u001b[39mkwargs)  \u001b[38;5;66;03m# type: ignore[misc]\u001b[39;00m\n\u001b[1;32m   1510\u001b[0m \u001b[38;5;28;01melse\u001b[39;00m:\n\u001b[0;32m-> 1511\u001b[0m     \u001b[38;5;28;01mreturn\u001b[39;00m \u001b[38;5;28;43mself\u001b[39;49m\u001b[38;5;241;43m.\u001b[39;49m\u001b[43m_call_impl\u001b[49m\u001b[43m(\u001b[49m\u001b[38;5;241;43m*\u001b[39;49m\u001b[43margs\u001b[49m\u001b[43m,\u001b[49m\u001b[43m \u001b[49m\u001b[38;5;241;43m*\u001b[39;49m\u001b[38;5;241;43m*\u001b[39;49m\u001b[43mkwargs\u001b[49m\u001b[43m)\u001b[49m\n",
      "File \u001b[0;32m~/miniconda3/envs/vmamba/lib/python3.12/site-packages/torch/nn/modules/module.py:1520\u001b[0m, in \u001b[0;36mModule._call_impl\u001b[0;34m(self, *args, **kwargs)\u001b[0m\n\u001b[1;32m   1515\u001b[0m \u001b[38;5;66;03m# If we don't have any hooks, we want to skip the rest of the logic in\u001b[39;00m\n\u001b[1;32m   1516\u001b[0m \u001b[38;5;66;03m# this function, and just call forward.\u001b[39;00m\n\u001b[1;32m   1517\u001b[0m \u001b[38;5;28;01mif\u001b[39;00m \u001b[38;5;129;01mnot\u001b[39;00m (\u001b[38;5;28mself\u001b[39m\u001b[38;5;241m.\u001b[39m_backward_hooks \u001b[38;5;129;01mor\u001b[39;00m \u001b[38;5;28mself\u001b[39m\u001b[38;5;241m.\u001b[39m_backward_pre_hooks \u001b[38;5;129;01mor\u001b[39;00m \u001b[38;5;28mself\u001b[39m\u001b[38;5;241m.\u001b[39m_forward_hooks \u001b[38;5;129;01mor\u001b[39;00m \u001b[38;5;28mself\u001b[39m\u001b[38;5;241m.\u001b[39m_forward_pre_hooks\n\u001b[1;32m   1518\u001b[0m         \u001b[38;5;129;01mor\u001b[39;00m _global_backward_pre_hooks \u001b[38;5;129;01mor\u001b[39;00m _global_backward_hooks\n\u001b[1;32m   1519\u001b[0m         \u001b[38;5;129;01mor\u001b[39;00m _global_forward_hooks \u001b[38;5;129;01mor\u001b[39;00m _global_forward_pre_hooks):\n\u001b[0;32m-> 1520\u001b[0m     \u001b[38;5;28;01mreturn\u001b[39;00m \u001b[43mforward_call\u001b[49m\u001b[43m(\u001b[49m\u001b[38;5;241;43m*\u001b[39;49m\u001b[43margs\u001b[49m\u001b[43m,\u001b[49m\u001b[43m \u001b[49m\u001b[38;5;241;43m*\u001b[39;49m\u001b[38;5;241;43m*\u001b[39;49m\u001b[43mkwargs\u001b[49m\u001b[43m)\u001b[49m\n\u001b[1;32m   1522\u001b[0m \u001b[38;5;28;01mtry\u001b[39;00m:\n\u001b[1;32m   1523\u001b[0m     result \u001b[38;5;241m=\u001b[39m \u001b[38;5;28;01mNone\u001b[39;00m\n",
      "Cell \u001b[0;32mIn[2], line 94\u001b[0m, in \u001b[0;36mHiPPO_LegT.forward\u001b[0;34m(self, inputs)\u001b[0m\n\u001b[1;32m     91\u001b[0m next_step_pred \u001b[38;5;241m=\u001b[39m []\n\u001b[1;32m     93\u001b[0m \u001b[38;5;28;01mfor\u001b[39;00m i \u001b[38;5;129;01min\u001b[39;00m \u001b[38;5;28mrange\u001b[39m(inputs\u001b[38;5;241m.\u001b[39mshape[\u001b[38;5;241m1\u001b[39m]):\n\u001b[0;32m---> 94\u001b[0m     c \u001b[38;5;241m=\u001b[39m \u001b[43mF\u001b[49m\u001b[38;5;241;43m.\u001b[39;49m\u001b[43mlinear\u001b[49m\u001b[43m(\u001b[49m\u001b[43mc\u001b[49m\u001b[43m,\u001b[49m\u001b[43m \u001b[49m\u001b[38;5;28;43mself\u001b[39;49m\u001b[38;5;241;43m.\u001b[39;49m\u001b[43mA\u001b[49m\u001b[43m)\u001b[49m \u001b[38;5;241m+\u001b[39m \u001b[38;5;28mself\u001b[39m\u001b[38;5;241m.\u001b[39mB \u001b[38;5;241m*\u001b[39m inputs[:,i,:]\n\u001b[1;32m     95\u001b[0m     \u001b[38;5;28;01mif\u001b[39;00m \u001b[38;5;28mlen\u001b[39m(cs)\u001b[38;5;241m==\u001b[39m\u001b[38;5;241m0\u001b[39m:\n\u001b[1;32m     96\u001b[0m         pred \u001b[38;5;241m=\u001b[39m (c \u001b[38;5;241m@\u001b[39m \u001b[38;5;28mself\u001b[39m\u001b[38;5;241m.\u001b[39mC_discr)\u001b[38;5;241m.\u001b[39mreshape(\u001b[38;5;241m-\u001b[39m\u001b[38;5;241m1\u001b[39m,\u001b[38;5;241m1\u001b[39m) \u001b[38;5;241m+\u001b[39m \u001b[38;5;28mself\u001b[39m\u001b[38;5;241m.\u001b[39mD_discr \u001b[38;5;241m*\u001b[39m inputs[:,i,:]\n",
      "\u001b[0;31mKeyboardInterrupt\u001b[0m: "
     ]
    }
   ],
   "source": [
    "import torch\n",
    "opt = torch.optim.Adam(model.parameters(), lr=1e-3)\n",
    "\n",
    "\n",
    "for epoch in range(10000):\n",
    "    for i, data in enumerate(dataloader_train):\n",
    "        \n",
    "        y_pred = model(data[1])\n",
    "\n",
    "        # loss is the mean squared error\n",
    "        print(\"y_pred\", y_pred.shape)\n",
    "        print(\"data\", data[1])\n",
    "\n",
    "        loss = torch.mean((y_pred[:,1:] - data[1][:,:-1])**2)\n",
    "        \n",
    "        loss.backward()\n",
    "        opt.step()\n",
    "        opt.zero_grad()\n",
    "        if i%1000 == 0:\n",
    "            print(f\"Epoch {epoch}, iteration {i}, loss: {loss.item()}\")\n",
    "        \n",
    "        break"
   ]
  },
  {
   "cell_type": "code",
   "execution_count": 56,
   "metadata": {},
   "outputs": [
    {
     "name": "stdout",
     "output_type": "stream",
     "text": [
      "x torch.Size([2, 200])\n",
      "y torch.Size([2, 200])\n"
     ]
    },
    {
     "ename": "NameError",
     "evalue": "name 'model_opt' is not defined",
     "output_type": "error",
     "traceback": [
      "\u001b[0;31m---------------------------------------------------------------------------\u001b[0m",
      "\u001b[0;31mNameError\u001b[0m                                 Traceback (most recent call last)",
      "Cell \u001b[0;32mIn[56], line 7\u001b[0m\n\u001b[1;32m      5\u001b[0m \u001b[38;5;28mprint\u001b[39m(\u001b[38;5;124m\"\u001b[39m\u001b[38;5;124my\u001b[39m\u001b[38;5;124m\"\u001b[39m, x\u001b[38;5;241m.\u001b[39mshape)\n\u001b[1;32m      6\u001b[0m y_pred \u001b[38;5;241m=\u001b[39m model(y)\n\u001b[0;32m----> 7\u001b[0m y_pred_opt \u001b[38;5;241m=\u001b[39m \u001b[43mmodel_opt\u001b[49m(y)\n\u001b[1;32m      8\u001b[0m x\u001b[38;5;241m.\u001b[39mshape, y\u001b[38;5;241m.\u001b[39mshape, y_pred\u001b[38;5;241m.\u001b[39mshape, y_pred_opt\u001b[38;5;241m.\u001b[39mshape\n\u001b[1;32m      9\u001b[0m plt\u001b[38;5;241m.\u001b[39mplot(x[\u001b[38;5;241m0\u001b[39m,:], y_pred[\u001b[38;5;241m0\u001b[39m,:]\u001b[38;5;241m.\u001b[39mdetach()\u001b[38;5;241m.\u001b[39mnumpy(), label\u001b[38;5;241m=\u001b[39m\u001b[38;5;124m\"\u001b[39m\u001b[38;5;124mrandom init\u001b[39m\u001b[38;5;124m\"\u001b[39m)\n",
      "\u001b[0;31mNameError\u001b[0m: name 'model_opt' is not defined"
     ]
    }
   ],
   "source": [
    "x = torch.linspace(0,1,200)\n",
    "x = torch.stack((x, x))\n",
    "print(\"x\", x.shape)\n",
    "y = torch.sin(x)\n",
    "print(\"y\", x.shape)\n",
    "y_pred = model(y)\n",
    "y_pred_opt = model_opt(y)\n",
    "x.shape, y.shape, y_pred.shape, y_pred_opt.shape\n",
    "plt.plot(x[0,:], y_pred[0,:].detach().numpy(), label=\"random init\")\n",
    "plt.plot(x[0,:], y_pred_opt[0,:].detach().numpy(), c=\"red\", label=\"optimal Parametrization\")\n",
    "plt.plot(x[0,:], y[0,:].detach().numpy(), c=\"black\", label=\"Ground Truth\")\n",
    "plt.legend()"
   ]
  },
  {
   "cell_type": "code",
   "execution_count": 68,
   "metadata": {},
   "outputs": [
    {
     "data": {
      "text/plain": [
       "[<matplotlib.lines.Line2D at 0x7f5bf0effb00>]"
      ]
     },
     "execution_count": 68,
     "metadata": {},
     "output_type": "execute_result"
    },
    {
     "data": {
      "image/png": "[encoded data removed]",
      "text/plain": [
       "<Figure size 640x480 with 1 Axes>"
      ]
     },
     "metadata": {},
     "output_type": "display_data"
    }
   ],
   "source": [
    "x = torch.linspace(0,1,1000)\n",
    "y = dataset.__getitem__(0)\n",
    "plt.plot(x[1:], y[1].detach().numpy()[1:], label=\"random init\")\n",
    "plt.plot(x[1:], model(y[1])[0].detach().numpy()[:-1], c=\"black\", label=\"Ground Truth\")\n",
    "\n"
   ]
  },
  {
   "cell_type": "code",
   "execution_count": 16,
   "metadata": {},
   "outputs": [],
   "source": [
    "steps_teacherforcing = range(int(100 * 0.411))\n",
    "steps_autoregressive = range(len(steps_teacherforcing),100, 1)\n"
   ]
  },
  {
   "cell_type": "code",
   "execution_count": 18,
   "metadata": {},
   "outputs": [
    {
     "name": "stdout",
     "output_type": "stream",
     "text": [
      "0\n",
      "1\n",
      "2\n",
      "3\n",
      "4\n",
      "5\n",
      "6\n",
      "7\n",
      "8\n",
      "9\n",
      "10\n",
      "11\n",
      "12\n",
      "13\n",
      "14\n",
      "15\n",
      "16\n",
      "17\n",
      "18\n",
      "19\n",
      "20\n",
      "21\n",
      "22\n",
      "23\n",
      "24\n",
      "25\n",
      "26\n",
      "27\n",
      "28\n",
      "29\n",
      "30\n",
      "31\n",
      "32\n",
      "33\n",
      "34\n",
      "35\n",
      "36\n",
      "37\n",
      "38\n",
      "39\n",
      "40\n"
     ]
    }
   ],
   "source": [
    "for i in steps_teacherforcing:\n",
    "    print(i)"
   ]
  },
  {
   "cell_type": "code",
   "execution_count": null,
   "metadata": {},
   "outputs": [],
   "source": []
  }
 ],
 "metadata": {
  "kernelspec": {
   "display_name": "Python 3.9.15 ('dpt')",
   "language": "python",
   "name": "python3"
  },
  "language_info": {
   "codemirror_mode": {
    "name": "ipython",
    "version": 3
   },
   "file_extension": ".py",
   "mimetype": "text/x-python",
   "name": "python",
   "nbconvert_exporter": "python",
   "pygments_lexer": "ipython3",
   "version": "3.12.3"
  },
  "orig_nbformat": 4,
  "vscode": {
   "interpreter": {
    "hash": "fb620b41b29611ca2e2d487634b8f17bf8dbbec58df8978ddf8331288402e548"
   }
  }
 },
 "nbformat": 4,
 "nbformat_minor": 2
}
