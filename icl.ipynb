{
 "cells": [
  {
   "cell_type": "code",
   "execution_count": 7,
   "metadata": {},
   "outputs": [
    {
     "name": "stdout",
     "output_type": "stream",
     "text": [
      "The autoreload extension is already loaded. To reload it, use:\n",
      "  %reload_ext autoreload\n"
     ]
    },
    {
     "name": "stderr",
     "output_type": "stream",
     "text": [
      "/tmp/ipykernel_150467/3791145972.py:7: DeprecationWarning: `magic(...)` is deprecated since IPython 0.13 (warning added in 8.1), use run_line_magic(magic_name, parameter_s).\n",
      "  ipython.magic('load_ext autoreload')\n"
     ]
    }
   ],
   "source": [
    "from torch.utils.data import Dataset\n",
    "import torch\n",
    "# make autoreload\n",
    "from IPython import get_ipython\n",
    "import numpy as np\n",
    "ipython = get_ipython()\n",
    "ipython.magic('load_ext autoreload')\n",
    "\n",
    "class PolyDataset(Dataset):\n",
    "    def __init__(self, degree: int, num_points: int, num_functions: int, num_samples: int = 1):\n",
    "        self.degree = degree # max degree of each sampled polynomial\n",
    "        self.num_points = num_points # nr of points to sample from each polynomial as the context length\n",
    "        self.num_functions = num_functions # nr of plolynomials to use, these will be random at each new step\n",
    "        # self.num_samples = num_samples # nr of samples to generate for each function\n",
    "        self.x = torch.linspace(0, 1, num_points)\n",
    "\n",
    "    def __len__(self):\n",
    "        return self.num_functions * self.num_points\n",
    "\n",
    "    def __getitem__(self, idx: int ):\n",
    "        # for beginning since there is a ton of polynomials to sample from we will just sample a random one\n",
    "        # need to make sure that numerical evals stay within range of of float32\n",
    "        # sample random polynomial of degree k\n",
    "        # sample random points from the polynomial\n",
    "\n",
    "        # y = a_n * x^n + a_n-1 * x^n-1 + ... + a_0\n",
    "\n",
    "        # sample k roots\n",
    "        roots = torch.rand(self.degree) \n",
    "\n",
    "        # numpy get random polynomial\n",
    "        y = self._polynomial(roots, self.x)\n",
    "        return torch.tensor(y).reshape(-1)\n",
    "    \n",
    "    def _polynomial(self, roots, x):\n",
    "        coeff = np.poly(roots)\n",
    "        return np.polyval(coeff, x)\n"
   ]
  },
  {
   "cell_type": "code",
   "execution_count": 2,
   "metadata": {},
   "outputs": [],
   "source": [
    "# sample n z_1, z_2, z_3, z_4, z_5, z_6\n",
    "# poly is now (x-z_1)(x-z_2)(x-z_3)(x-z_4)(x-z_5)(x-z_6)"
   ]
  },
  {
   "cell_type": "code",
   "execution_count": 8,
   "metadata": {},
   "outputs": [
    {
     "data": {
      "text/plain": [
       "tensor([[0.0000, 0.2000, 0.4000, 0.6000, 0.8000, 1.0000]])"
      ]
     },
     "execution_count": 8,
     "metadata": {},
     "output_type": "execute_result"
    }
   ],
   "source": [
    "torch.linspace(0, 1, 6)[None,:]"
   ]
  },
  {
   "cell_type": "code",
   "execution_count": 9,
   "metadata": {},
   "outputs": [],
   "source": [
    "from model.hippo import HiPPO_LegT\n",
    "\n",
    "model = HiPPO_LegT(10,dt=0.1)"
   ]
  },
  {
   "cell_type": "code",
   "execution_count": 10,
   "metadata": {},
   "outputs": [],
   "source": [
    "ds = PolyDataset(15, 10, 1)\n",
    "dl = torch.utils.data.DataLoader(ds, batch_size=3, shuffle=True)"
   ]
  },
  {
   "cell_type": "code",
   "execution_count": 11,
   "metadata": {},
   "outputs": [
    {
     "name": "stdout",
     "output_type": "stream",
     "text": [
      "torch.Size([3, 10])\n",
      "torch.Size([3, 10])\n",
      "torch.Size([10, 10]) torch.Size([10]) torch.Size([10]) torch.Size([1])\n"
     ]
    },
    {
     "ename": "RuntimeError",
     "evalue": "1D tensors expected, but got 2D and 1D tensors",
     "output_type": "error",
     "traceback": [
      "\u001b[0;31m---------------------------------------------------------------------------\u001b[0m",
      "\u001b[0;31mRuntimeError\u001b[0m                              Traceback (most recent call last)",
      "Cell \u001b[0;32mIn[11], line 2\u001b[0m\n\u001b[1;32m      1\u001b[0m \u001b[38;5;28;01mfor\u001b[39;00m i, y \u001b[38;5;129;01min\u001b[39;00m \u001b[38;5;28menumerate\u001b[39m(dl):\n\u001b[0;32m----> 2\u001b[0m     \u001b[43mmodel\u001b[49m\u001b[38;5;241;43m.\u001b[39;49m\u001b[43mforward_batched\u001b[49m\u001b[43m(\u001b[49m\u001b[43my\u001b[49m\u001b[43m)\u001b[49m\n\u001b[1;32m      3\u001b[0m     \u001b[38;5;28;01mbreak\u001b[39;00m\n",
      "File \u001b[0;32m~/In-Context-SSM/model/hippo.py:123\u001b[0m, in \u001b[0;36mHiPPO_LegT.forward_batched\u001b[0;34m(self, inputs)\u001b[0m\n\u001b[1;32m    120\u001b[0m c \u001b[38;5;241m=\u001b[39m F\u001b[38;5;241m.\u001b[39mlinear(c, \u001b[38;5;28mself\u001b[39m\u001b[38;5;241m.\u001b[39mA_discr) \u001b[38;5;241m+\u001b[39m \u001b[38;5;28mself\u001b[39m\u001b[38;5;241m.\u001b[39mB_discr \u001b[38;5;241m*\u001b[39m f\n\u001b[1;32m    122\u001b[0m \u001b[38;5;28;01mif\u001b[39;00m \u001b[38;5;28mlen\u001b[39m(cs)\u001b[38;5;241m==\u001b[39m\u001b[38;5;241m0\u001b[39m:\n\u001b[0;32m--> 123\u001b[0m     pred \u001b[38;5;241m=\u001b[39m \u001b[43mtorch\u001b[49m\u001b[38;5;241;43m.\u001b[39;49m\u001b[43mdot\u001b[49m\u001b[43m(\u001b[49m\u001b[43mc\u001b[49m\u001b[43m,\u001b[49m\u001b[43m \u001b[49m\u001b[38;5;28;43mself\u001b[39;49m\u001b[38;5;241;43m.\u001b[39;49m\u001b[43mC_discr\u001b[49m\u001b[43m)\u001b[49m\u001b[38;5;241m+\u001b[39m\u001b[38;5;28mself\u001b[39m\u001b[38;5;241m.\u001b[39mD_discr\u001b[38;5;241m*\u001b[39mf\n\u001b[1;32m    124\u001b[0m \u001b[38;5;28;01melse\u001b[39;00m:\n\u001b[1;32m    125\u001b[0m     \u001b[38;5;66;03m#pred = 1/(1-0.5*self.D*self.dt)*((1+0.5*self.D*self.dt)*f+0.5*self.dt*torch.dot((c+torch.Tensor(cs[-1])), self.C))\u001b[39;00m\n\u001b[1;32m    126\u001b[0m     pred \u001b[38;5;241m=\u001b[39m torch\u001b[38;5;241m.\u001b[39mdot(\u001b[38;5;241m2\u001b[39m\u001b[38;5;241m*\u001b[39mc, \u001b[38;5;28mself\u001b[39m\u001b[38;5;241m.\u001b[39mC_discr)\u001b[38;5;241m+\u001b[39m\u001b[38;5;28mself\u001b[39m\u001b[38;5;241m.\u001b[39mD_discr\u001b[38;5;241m*\u001b[39mf\n",
      "\u001b[0;31mRuntimeError\u001b[0m: 1D tensors expected, but got 2D and 1D tensors"
     ]
    }
   ],
   "source": [
    "for i, y in enumerate(dl):\n",
    "    model.forward_batched(y)\n",
    "    break"
   ]
  },
  {
   "cell_type": "code",
   "execution_count": null,
   "metadata": {},
   "outputs": [],
   "source": []
  },
  {
   "cell_type": "code",
   "execution_count": null,
   "metadata": {},
   "outputs": [],
   "source": []
  },
  {
   "cell_type": "code",
   "execution_count": null,
   "metadata": {},
   "outputs": [],
   "source": []
  }
 ],
 "metadata": {
  "kernelspec": {
   "display_name": "vmamba",
   "language": "python",
   "name": "python3"
  },
  "language_info": {
   "codemirror_mode": {
    "name": "ipython",
    "version": 3
   },
   "file_extension": ".py",
   "mimetype": "text/x-python",
   "name": "python",
   "nbconvert_exporter": "python",
   "pygments_lexer": "ipython3",
   "version": "3.12.3"
  }
 },
 "nbformat": 4,
 "nbformat_minor": 2
}
